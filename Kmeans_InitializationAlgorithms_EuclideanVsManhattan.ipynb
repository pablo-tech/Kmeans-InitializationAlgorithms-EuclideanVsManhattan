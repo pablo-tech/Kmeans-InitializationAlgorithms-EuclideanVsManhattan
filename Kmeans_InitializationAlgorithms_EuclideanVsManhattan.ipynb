{
  "nbformat": 4,
  "nbformat_minor": 0,
  "metadata": {
    "colab": {
      "name": "Kmeans-InitializationAlgorithms-EuclideanVsManhattan.ipynb",
      "provenance": [],
      "collapsed_sections": [],
      "toc_visible": true
    },
    "kernelspec": {
      "name": "python3",
      "display_name": "Python 3"
    }
  },
  "cells": [
    {
      "cell_type": "markdown",
      "metadata": {
        "id": "kPt5q27L5557",
        "colab_type": "text"
      },
      "source": [
        "# CS246 - HW 2.2\n",
        "## K-means"
      ]
    },
    {
      "cell_type": "markdown",
      "metadata": {
        "id": "p0-YhEpP_Ds-",
        "colab_type": "text"
      },
      "source": [
        "### Setup"
      ]
    },
    {
      "cell_type": "markdown",
      "metadata": {
        "id": "Zsj5WYpR9QId",
        "colab_type": "text"
      },
      "source": [
        "Let's setup Spark on your Colab environment.  Run the cell below!"
      ]
    },
    {
      "cell_type": "code",
      "metadata": {
        "id": "k-qHai2252mI",
        "colab_type": "code",
        "outputId": "e8e1de15-28bd-41e6-da84-108a3470c5eb",
        "colab": {
          "base_uri": "https://localhost:8080/",
          "height": 343
        }
      },
      "source": [
        "!pip install pyspark\n",
        "!pip install -U -q PyDrive\n",
        "!apt install openjdk-8-jdk-headless -qq\n",
        "import os\n",
        "os.environ[\"JAVA_HOME\"] = \"/usr/lib/jvm/java-8-openjdk-amd64\""
      ],
      "execution_count": 0,
      "outputs": [
        {
          "output_type": "stream",
          "text": [
            "Collecting pyspark\n",
            "\u001b[?25l  Downloading https://files.pythonhosted.org/packages/9a/5a/271c416c1c2185b6cb0151b29a91fff6fcaed80173c8584ff6d20e46b465/pyspark-2.4.5.tar.gz (217.8MB)\n",
            "\u001b[K     |████████████████████████████████| 217.8MB 57kB/s \n",
            "\u001b[?25hCollecting py4j==0.10.7\n",
            "\u001b[?25l  Downloading https://files.pythonhosted.org/packages/e3/53/c737818eb9a7dc32a7cd4f1396e787bd94200c3997c72c1dbe028587bd76/py4j-0.10.7-py2.py3-none-any.whl (197kB)\n",
            "\u001b[K     |████████████████████████████████| 204kB 60.1MB/s \n",
            "\u001b[?25hBuilding wheels for collected packages: pyspark\n",
            "  Building wheel for pyspark (setup.py) ... \u001b[?25l\u001b[?25hdone\n",
            "  Created wheel for pyspark: filename=pyspark-2.4.5-py2.py3-none-any.whl size=218257927 sha256=717b99acb67a159a2e1d2e14b9c843c241ee0166ee4c58ed9d2736196bcf1d0e\n",
            "  Stored in directory: /root/.cache/pip/wheels/bf/db/04/61d66a5939364e756eb1c1be4ec5bdce6e04047fc7929a3c3c\n",
            "Successfully built pyspark\n",
            "Installing collected packages: py4j, pyspark\n",
            "Successfully installed py4j-0.10.7 pyspark-2.4.5\n",
            "openjdk-8-jdk-headless is already the newest version (8u242-b08-0ubuntu3~18.04).\n",
            "The following package was automatically installed and is no longer required:\n",
            "  libnvidia-common-430\n",
            "Use 'apt autoremove' to remove it.\n",
            "0 upgraded, 0 newly installed, 0 to remove and 25 not upgraded.\n"
          ],
          "name": "stdout"
        }
      ]
    },
    {
      "cell_type": "markdown",
      "metadata": {
        "id": "PUUjUvXe3Sjk",
        "colab_type": "text"
      },
      "source": [
        "Now we authenticate a Google Drive client to download the filea we will be processing in our Spark job.\n",
        "\n",
        "**Make sure to follow the interactive instructions.**"
      ]
    },
    {
      "cell_type": "code",
      "metadata": {
        "id": "lRElWs_x2mGh",
        "colab_type": "code",
        "colab": {}
      },
      "source": [
        "from pydrive.auth import GoogleAuth\n",
        "from pydrive.drive import GoogleDrive\n",
        "from google.colab import auth\n",
        "from oauth2client.client import GoogleCredentials\n",
        "\n",
        "# Authenticate and create the PyDrive client\n",
        "auth.authenticate_user()\n",
        "gauth = GoogleAuth()\n",
        "gauth.credentials = GoogleCredentials.get_application_default()\n",
        "drive = GoogleDrive(gauth)"
      ],
      "execution_count": 0,
      "outputs": []
    },
    {
      "cell_type": "code",
      "metadata": {
        "id": "QHsFTGUy2n1c",
        "colab_type": "code",
        "colab": {}
      },
      "source": [
        "id='1E-voIV2ctU4Brw022Na8RHVVRGOoNkO1'\n",
        "downloaded = drive.CreateFile({'id': id})\n",
        "downloaded.GetContentFile('data.txt')\n",
        "\n",
        "id='1yXNlZWMqUcAwDScBrkFChOHJwR1FZXmI'\n",
        "downloaded = drive.CreateFile({'id': id})\n",
        "downloaded.GetContentFile('c1.txt')\n",
        "\n",
        "id='1vfovle9DgaeK0LnbQTH0j7kRaJjsvLtb'\n",
        "downloaded = drive.CreateFile({'id': id})\n",
        "downloaded.GetContentFile('c2.txt')"
      ],
      "execution_count": 0,
      "outputs": []
    },
    {
      "cell_type": "markdown",
      "metadata": {
        "id": "qwtlO4_m_LbQ",
        "colab_type": "text"
      },
      "source": [
        "If you executed the cells above, you should be able to see the dataset we will use for this Colab under the \"Files\" tab on the left panel.\n",
        "\n",
        "Next, we import some of the common libraries needed for our task."
      ]
    },
    {
      "cell_type": "code",
      "metadata": {
        "id": "twk-K-jilWK7",
        "colab_type": "code",
        "colab": {}
      },
      "source": [
        "import pandas as pd\n",
        "import numpy as np\n",
        "import matplotlib.pyplot as plt\n",
        "%matplotlib inline\n",
        "\n",
        "import pyspark\n",
        "from pyspark.sql import *\n",
        "from pyspark.sql.types import *\n",
        "from pyspark.sql.functions import *\n",
        "from pyspark import SparkContext, SparkConf"
      ],
      "execution_count": 0,
      "outputs": []
    },
    {
      "cell_type": "markdown",
      "metadata": {
        "colab_type": "text",
        "id": "BtrJlMBt1Ela"
      },
      "source": [
        "Let's initialize the Spark context."
      ]
    },
    {
      "cell_type": "code",
      "metadata": {
        "colab_type": "code",
        "id": "Vm3sAVeK1EDZ",
        "colab": {}
      },
      "source": [
        "# create the session\n",
        "conf = SparkConf().set(\"spark.ui.port\", \"4050\")\n",
        "\n",
        "# create the context\n",
        "sc = pyspark.SparkContext(conf=conf)\n",
        "spark = SparkSession.builder.getOrCreate()"
      ],
      "execution_count": 0,
      "outputs": []
    },
    {
      "cell_type": "markdown",
      "metadata": {
        "colab_type": "text",
        "id": "YqovskkH1DmC"
      },
      "source": [
        "You can easily check the current version and get the link of the web interface. In the Spark UI, you can monitor the progress of your job and debug the performance bottlenecks (if your Colab is running with a **local runtime**)."
      ]
    },
    {
      "cell_type": "code",
      "metadata": {
        "colab_type": "code",
        "id": "DueQggJc1DDk",
        "outputId": "27f9b6c8-d420-4331-ba1b-51ccd350cbcc",
        "colab": {
          "base_uri": "https://localhost:8080/",
          "height": 216
        }
      },
      "source": [
        "spark"
      ],
      "execution_count": 0,
      "outputs": [
        {
          "output_type": "execute_result",
          "data": {
            "text/html": [
              "\n",
              "            <div>\n",
              "                <p><b>SparkSession - in-memory</b></p>\n",
              "                \n",
              "        <div>\n",
              "            <p><b>SparkContext</b></p>\n",
              "\n",
              "            <p><a href=\"http://b95496b33de2:4050\">Spark UI</a></p>\n",
              "\n",
              "            <dl>\n",
              "              <dt>Version</dt>\n",
              "                <dd><code>v2.4.5</code></dd>\n",
              "              <dt>Master</dt>\n",
              "                <dd><code>local[*]</code></dd>\n",
              "              <dt>AppName</dt>\n",
              "                <dd><code>pyspark-shell</code></dd>\n",
              "            </dl>\n",
              "        </div>\n",
              "        \n",
              "            </div>\n",
              "        "
            ],
            "text/plain": [
              "<pyspark.sql.session.SparkSession at 0x7f119525a6a0>"
            ]
          },
          "metadata": {
            "tags": []
          },
          "execution_count": 7
        }
      ]
    },
    {
      "cell_type": "markdown",
      "metadata": {
        "colab_type": "text",
        "id": "Iid7lXcG1CY8"
      },
      "source": [
        "If you are running this Colab on the Google hosted runtime, the cell below will create a *ngrok* tunnel which will allow you to still check the Spark UI."
      ]
    },
    {
      "cell_type": "code",
      "metadata": {
        "colab_type": "code",
        "id": "sDnGLVPH1BPQ",
        "colab": {}
      },
      "source": [
        "# !wget https://bin.equinox.io/c/4VmDzA7iaHb/ngrok-stable-linux-amd64.zip\n",
        "# !unzip ngrok-stable-linux-amd64.zip\n",
        "# get_ipython().system_raw('./ngrok http 4050 &')\n",
        "# !curl -s http://localhost:4040/api/tunnels | python3 -c \\\n",
        "#     \"import sys, json; print(json.load(sys.stdin)['tunnels'][0]['public_url'])\""
      ],
      "execution_count": 0,
      "outputs": []
    },
    {
      "cell_type": "markdown",
      "metadata": {
        "id": "32RP1CIRrzUH",
        "colab_type": "text"
      },
      "source": [
        "# Data"
      ]
    },
    {
      "cell_type": "code",
      "metadata": {
        "id": "pNaeoqOmr2Rn",
        "colab_type": "code",
        "outputId": "4116941a-7788-4bd1-f97d-b5baa0b46cf3",
        "colab": {
          "base_uri": "https://localhost:8080/",
          "height": 54
        }
      },
      "source": [
        "data_df = spark.read.option(\"sep\", \" \").csv(\"data.txt\", header=False)\n",
        "data_df.take(1)\n",
        "# data_df.printSchema()"
      ],
      "execution_count": 0,
      "outputs": [
        {
          "output_type": "execute_result",
          "data": {
            "text/plain": [
              "[Row(_c0='0', _c1='0.64', _c2='0.64', _c3='0', _c4='0.32', _c5='0', _c6='0', _c7='0', _c8='0', _c9='0', _c10='0', _c11='0.64', _c12='0', _c13='0', _c14='0', _c15='0.32', _c16='0', _c17='1.29', _c18='1.93', _c19='0', _c20='0.96', _c21='0', _c22='0', _c23='0', _c24='0', _c25='0', _c26='0', _c27='0', _c28='0', _c29='0', _c30='0', _c31='0', _c32='0', _c33='0', _c34='0', _c35='0', _c36='0', _c37='0', _c38='0', _c39='0', _c40='0', _c41='0', _c42='0', _c43='0', _c44='0', _c45='0', _c46='0', _c47='0', _c48='0', _c49='0', _c50='0', _c51='0.778', _c52='0', _c53='0', _c54='3.756', _c55='61', _c56='278', _c57='1')]"
            ]
          },
          "metadata": {
            "tags": []
          },
          "execution_count": 15
        }
      ]
    },
    {
      "cell_type": "code",
      "metadata": {
        "id": "X8duztKr1JU_",
        "colab_type": "code",
        "outputId": "4f1e5eb7-bde1-4243-d1c0-5375dade2afb",
        "colab": {
          "base_uri": "https://localhost:8080/",
          "height": 479
        }
      },
      "source": [
        "data_vectors_rdd = data_df.rdd.map(lambda line: [float(x) for x in line])\n",
        "\n",
        "data_vectors_rdd.toDF().show()\n"
      ],
      "execution_count": 0,
      "outputs": [
        {
          "output_type": "stream",
          "text": [
            "+----+----+----+---+----+----+----+----+----+----+----+----+----+----+----+----+----+----+----+----+----+---+----+----+---+---+---+----+---+---+---+---+----+---+---+---+----+---+---+----+---+---+----+----+----+----+---+---+-----+-----+---+-----+-----+-----+------+-----+------+---+\n",
            "|  _1|  _2|  _3| _4|  _5|  _6|  _7|  _8|  _9| _10| _11| _12| _13| _14| _15| _16| _17| _18| _19| _20| _21|_22| _23| _24|_25|_26|_27| _28|_29|_30|_31|_32| _33|_34|_35|_36| _37|_38|_39| _40|_41|_42| _43| _44| _45| _46|_47|_48|  _49|  _50|_51|  _52|  _53|  _54|   _55|  _56|   _57|_58|\n",
            "+----+----+----+---+----+----+----+----+----+----+----+----+----+----+----+----+----+----+----+----+----+---+----+----+---+---+---+----+---+---+---+---+----+---+---+---+----+---+---+----+---+---+----+----+----+----+---+---+-----+-----+---+-----+-----+-----+------+-----+------+---+\n",
            "| 0.0|0.64|0.64|0.0|0.32| 0.0| 0.0| 0.0| 0.0| 0.0| 0.0|0.64| 0.0| 0.0| 0.0|0.32| 0.0|1.29|1.93| 0.0|0.96|0.0| 0.0| 0.0|0.0|0.0|0.0| 0.0|0.0|0.0|0.0|0.0| 0.0|0.0|0.0|0.0| 0.0|0.0|0.0| 0.0|0.0|0.0| 0.0| 0.0| 0.0| 0.0|0.0|0.0|  0.0|  0.0|0.0|0.778|  0.0|  0.0| 3.756| 61.0| 278.0|1.0|\n",
            "|0.21|0.28| 0.5|0.0|0.14|0.28|0.21|0.07| 0.0|0.94|0.21|0.79|0.65|0.21|0.14|0.14|0.07|0.28|3.47| 0.0|1.59|0.0|0.43|0.43|0.0|0.0|0.0| 0.0|0.0|0.0|0.0|0.0| 0.0|0.0|0.0|0.0|0.07|0.0|0.0| 0.0|0.0|0.0| 0.0| 0.0| 0.0| 0.0|0.0|0.0|  0.0|0.132|0.0|0.372| 0.18|0.048| 5.114|101.0|1028.0|1.0|\n",
            "|0.06| 0.0|0.71|0.0|1.23|0.19|0.19|0.12|0.64|0.25|0.38|0.45|0.12| 0.0|1.75|0.06|0.06|1.03|1.36|0.32|0.51|0.0|1.16|0.06|0.0|0.0|0.0| 0.0|0.0|0.0|0.0|0.0| 0.0|0.0|0.0|0.0| 0.0|0.0|0.0|0.06|0.0|0.0|0.12| 0.0|0.06|0.06|0.0|0.0| 0.01|0.143|0.0|0.276|0.184| 0.01| 9.821|485.0|2259.0|1.0|\n",
            "| 0.0| 0.0| 0.0|0.0|0.63| 0.0|0.31|0.63|0.31|0.63|0.31|0.31|0.31| 0.0| 0.0|0.31| 0.0| 0.0|3.18| 0.0|0.31|0.0| 0.0| 0.0|0.0|0.0|0.0| 0.0|0.0|0.0|0.0|0.0| 0.0|0.0|0.0|0.0| 0.0|0.0|0.0| 0.0|0.0|0.0| 0.0| 0.0| 0.0| 0.0|0.0|0.0|  0.0|0.137|0.0|0.137|  0.0|  0.0| 3.537| 40.0| 191.0|1.0|\n",
            "| 0.0| 0.0| 0.0|0.0|0.63| 0.0|0.31|0.63|0.31|0.63|0.31|0.31|0.31| 0.0| 0.0|0.31| 0.0| 0.0|3.18| 0.0|0.31|0.0| 0.0| 0.0|0.0|0.0|0.0| 0.0|0.0|0.0|0.0|0.0| 0.0|0.0|0.0|0.0| 0.0|0.0|0.0| 0.0|0.0|0.0| 0.0| 0.0| 0.0| 0.0|0.0|0.0|  0.0|0.135|0.0|0.135|  0.0|  0.0| 3.537| 40.0| 191.0|1.0|\n",
            "| 0.0| 0.0| 0.0|0.0|1.85| 0.0| 0.0|1.85| 0.0| 0.0| 0.0| 0.0| 0.0| 0.0| 0.0| 0.0| 0.0| 0.0| 0.0| 0.0| 0.0|0.0| 0.0| 0.0|0.0|0.0|0.0| 0.0|0.0|0.0|0.0|0.0| 0.0|0.0|0.0|0.0| 0.0|0.0|0.0| 0.0|0.0|0.0| 0.0| 0.0| 0.0| 0.0|0.0|0.0|  0.0|0.223|0.0|  0.0|  0.0|  0.0|   3.0| 15.0|  54.0|1.0|\n",
            "| 0.0| 0.0| 0.0|0.0|1.92| 0.0| 0.0| 0.0| 0.0|0.64|0.96|1.28| 0.0| 0.0| 0.0|0.96| 0.0|0.32|3.85| 0.0|0.64|0.0| 0.0| 0.0|0.0|0.0|0.0| 0.0|0.0|0.0|0.0|0.0| 0.0|0.0|0.0|0.0| 0.0|0.0|0.0| 0.0|0.0|0.0| 0.0| 0.0| 0.0| 0.0|0.0|0.0|  0.0|0.054|0.0|0.164|0.054|  0.0| 1.671|  4.0| 112.0|1.0|\n",
            "| 0.0| 0.0| 0.0|0.0|1.88| 0.0| 0.0|1.88| 0.0| 0.0| 0.0| 0.0| 0.0| 0.0| 0.0| 0.0| 0.0| 0.0| 0.0| 0.0| 0.0|0.0| 0.0| 0.0|0.0|0.0|0.0| 0.0|0.0|0.0|0.0|0.0| 0.0|0.0|0.0|0.0| 0.0|0.0|0.0| 0.0|0.0|0.0| 0.0| 0.0| 0.0| 0.0|0.0|0.0|  0.0|0.206|0.0|  0.0|  0.0|  0.0|  2.45| 11.0|  49.0|1.0|\n",
            "|0.15| 0.0|0.46|0.0|0.61| 0.0| 0.3| 0.0|0.92|0.76|0.76|0.92| 0.0| 0.0| 0.0| 0.0| 0.0|0.15|1.23|3.53| 2.0|0.0| 0.0|0.15|0.0|0.0|0.0| 0.0|0.0|0.0|0.0|0.0|0.15|0.0|0.0|0.0| 0.0|0.0|0.0| 0.0|0.0|0.0| 0.3| 0.0| 0.0| 0.0|0.0|0.0|  0.0|0.271|0.0|0.181|0.203|0.022| 9.744|445.0|1257.0|1.0|\n",
            "|0.06|0.12|0.77|0.0|0.19|0.32|0.38| 0.0|0.06| 0.0| 0.0|0.64|0.25| 0.0|0.12| 0.0| 0.0|0.12|1.67|0.06|0.71|0.0|0.19| 0.0|0.0|0.0|0.0| 0.0|0.0|0.0|0.0|0.0| 0.0|0.0|0.0|0.0| 0.0|0.0|0.0| 0.0|0.0|0.0| 0.0|0.06| 0.0| 0.0|0.0|0.0| 0.04| 0.03|0.0|0.244|0.081|  0.0| 1.729| 43.0| 749.0|1.0|\n",
            "| 0.0| 0.0| 0.0|0.0| 0.0| 0.0|0.96| 0.0| 0.0|1.92|0.96| 0.0| 0.0| 0.0| 0.0| 0.0| 0.0|0.96|3.84| 0.0|0.96|0.0| 0.0| 0.0|0.0|0.0|0.0| 0.0|0.0|0.0|0.0|0.0| 0.0|0.0|0.0|0.0| 0.0|0.0|0.0|0.96|0.0|0.0| 0.0| 0.0| 0.0| 0.0|0.0|0.0|  0.0|  0.0|0.0|0.462|  0.0|  0.0| 1.312|  6.0|  21.0|1.0|\n",
            "| 0.0| 0.0|0.25|0.0|0.38|0.25|0.25| 0.0| 0.0| 0.0|0.12|0.12|0.12| 0.0| 0.0| 0.0| 0.0| 0.0|1.16| 0.0|0.77|0.0| 0.0| 0.0|0.0|0.0|0.0| 0.0|0.0|0.0|0.0|0.0| 0.0|0.0|0.0|0.0| 0.0|0.0|0.0| 0.0|0.0|0.0| 0.0| 0.0| 0.0| 0.0|0.0|0.0|0.022|0.044|0.0|0.663|  0.0|  0.0| 1.243| 11.0| 184.0|1.0|\n",
            "| 0.0|0.69|0.34|0.0|0.34| 0.0| 0.0| 0.0| 0.0| 0.0| 0.0|0.69| 0.0| 0.0| 0.0|0.34| 0.0|1.39|2.09| 0.0|1.04|0.0| 0.0| 0.0|0.0|0.0|0.0| 0.0|0.0|0.0|0.0|0.0| 0.0|0.0|0.0|0.0| 0.0|0.0|0.0| 0.0|0.0|0.0| 0.0| 0.0| 0.0| 0.0|0.0|0.0|  0.0|0.056|0.0|0.786|  0.0|  0.0| 3.728| 61.0| 261.0|1.0|\n",
            "| 0.0| 0.0| 0.0|0.0| 0.9| 0.0| 0.9| 0.0| 0.0| 0.9| 0.9| 0.0| 0.9| 0.0| 0.0| 0.0| 0.0| 0.0|2.72| 0.0| 0.9|0.0| 0.0| 0.0|0.0|0.0|0.0| 0.0|0.0|0.0|0.0|0.0| 0.0|0.0|0.0|0.0| 0.0|0.0|0.0| 0.0|0.0|0.0| 0.0| 0.0| 0.0| 0.0|0.0|0.0|  0.0|  0.0|0.0|  0.0|  0.0|  0.0| 2.083|  7.0|  25.0|1.0|\n",
            "| 0.0| 0.0|1.42|0.0|0.71|0.35| 0.0|0.35| 0.0|0.71| 0.0|0.35| 0.0| 0.0| 0.0|5.35| 0.0| 0.0|3.21| 0.0|2.85|0.0|0.35| 0.0|0.0|0.0|0.0| 0.0|0.0|0.0|0.0|0.0| 0.0|0.0|0.0|0.0| 0.0|0.0|0.0| 0.0|0.0|0.0| 0.0| 0.0| 0.0| 0.0|0.0|0.0|  0.0|0.102|0.0|0.357|  0.0|  0.0| 1.971| 24.0| 205.0|1.0|\n",
            "| 0.0|0.42|0.42|0.0|1.27| 0.0|0.42| 0.0| 0.0|1.27| 0.0| 0.0| 0.0| 0.0| 0.0|1.27| 0.0| 0.0| 1.7|0.42|1.27|0.0| 0.0|0.42|0.0|0.0|0.0| 0.0|0.0|0.0|0.0|0.0| 0.0|0.0|0.0|0.0|1.27|0.0|0.0|0.42|0.0|0.0| 0.0| 0.0| 0.0| 0.0|0.0|0.0|  0.0|0.063|0.0|0.572|0.063|  0.0| 5.659| 55.0| 249.0|1.0|\n",
            "| 0.0| 0.0| 0.0|0.0|0.94| 0.0| 0.0| 0.0| 0.0| 0.0| 0.0| 0.0| 0.0| 0.0| 0.0| 0.0| 0.0| 0.0|1.88| 0.0|2.83|0.0| 0.0| 0.0|0.0|0.0|0.0| 0.0|0.0|0.0|0.0|0.0| 0.0|0.0|0.0|0.0| 0.0|0.0|0.0| 0.0|0.0|0.0| 0.0| 0.0| 0.0| 0.0|0.0|0.0|  0.0|  0.0|0.0|0.428|  0.0|  0.0| 4.652| 31.0| 107.0|1.0|\n",
            "| 0.0| 0.0| 0.0|0.0| 0.0| 0.0| 0.0| 0.0| 0.0| 0.0| 0.0| 0.0| 0.0| 0.0| 0.0| 0.0| 0.0| 0.0| 0.0| 0.0|2.11|0.0| 0.7| 0.0|0.0|0.0|0.0| 0.0|0.0|0.0|0.0|0.0| 0.0|0.0|0.0|0.0| 0.0|0.0|0.0| 0.0|0.0|0.0| 0.0| 0.0| 0.0| 0.0|0.0|0.0|  0.0|  0.0|0.0|1.975| 0.37|  0.0|35.461| 95.0| 461.0|1.0|\n",
            "| 0.0| 0.0|0.55|0.0|1.11| 0.0|0.18| 0.0| 0.0| 0.0| 0.0| 0.0|0.92| 0.0|0.18| 0.0|0.37|0.37|3.15| 0.0|0.92|0.0| 0.0| 0.0|0.0|0.0|0.0| 0.0|0.0|0.0|0.0|0.0| 0.0|0.0|0.0|0.0| 0.0|0.0|0.0| 0.0|0.0|0.0| 0.0| 0.0| 0.0| 0.0|0.0|0.0|  0.0|0.182|0.0|0.455|  0.0|  0.0|  1.32|  4.0|  70.0|1.0|\n",
            "| 0.0|0.63| 0.0|0.0|1.59|0.31| 0.0| 0.0|0.31| 0.0| 0.0|0.63| 0.0| 0.0|1.27|0.63|0.31|3.18|2.22| 0.0|1.91|0.0|0.31|0.63|0.0|0.0|0.0|0.31|0.0|0.0|0.0|0.0| 0.0|0.0|0.0|0.0| 0.0|0.0|0.0|1.59|0.0|0.0| 0.0| 0.0| 0.0| 0.0|0.0|0.0|  0.0|0.275|0.0|0.055|0.496|  0.0| 3.509| 91.0| 186.0|1.0|\n",
            "+----+----+----+---+----+----+----+----+----+----+----+----+----+----+----+----+----+----+----+----+----+---+----+----+---+---+---+----+---+---+---+---+----+---+---+---+----+---+---+----+---+---+----+----+----+----+---+---+-----+-----+---+-----+-----+-----+------+-----+------+---+\n",
            "only showing top 20 rows\n",
            "\n"
          ],
          "name": "stdout"
        }
      ]
    },
    {
      "cell_type": "code",
      "metadata": {
        "id": "TQkcDadgsMRa",
        "colab_type": "code",
        "outputId": "94033e3c-99cd-40ad-d34b-bbfc461ca0d3",
        "colab": {
          "base_uri": "https://localhost:8080/",
          "height": 54
        }
      },
      "source": [
        "# k initial cluster centroids \n",
        "c1_df = spark.read.option(\"sep\", \" \").csv(\"c1.txt\", header=False)\n",
        "c1_df.take(1)\n",
        "\n",
        "# c1_df.printSchema()"
      ],
      "execution_count": 0,
      "outputs": [
        {
          "output_type": "execute_result",
          "data": {
            "text/plain": [
              "[Row(_c0='0', _c1='0.64', _c2='0.64', _c3='0', _c4='0.32', _c5='0', _c6='0', _c7='0', _c8='0', _c9='0', _c10='0', _c11='0.64', _c12='0', _c13='0', _c14='0', _c15='0.32', _c16='0', _c17='1.29', _c18='1.93', _c19='0', _c20='0.96', _c21='0', _c22='0', _c23='0', _c24='0', _c25='0', _c26='0', _c27='0', _c28='0', _c29='0', _c30='0', _c31='0', _c32='0', _c33='0', _c34='0', _c35='0', _c36='0', _c37='0', _c38='0', _c39='0', _c40='0', _c41='0', _c42='0', _c43='0', _c44='0', _c45='0', _c46='0', _c47='0', _c48='0', _c49='0', _c50='0', _c51='0.778', _c52='0', _c53='0', _c54='3.756', _c55='61', _c56='278', _c57='1')]"
            ]
          },
          "metadata": {
            "tags": []
          },
          "execution_count": 94
        }
      ]
    },
    {
      "cell_type": "code",
      "metadata": {
        "id": "3iVTbByAxuXk",
        "colab_type": "code",
        "outputId": "6f2793df-f66c-4e0e-a583-61d835804838",
        "colab": {
          "base_uri": "https://localhost:8080/",
          "height": 34
        }
      },
      "source": [
        "c1_vectors = c1_df.rdd.map(lambda line: [float(x) for x in line]).collect()\n",
        "\n",
        "np.sum(c1_vectors[1])\n"
      ],
      "execution_count": 0,
      "outputs": [
        {
          "output_type": "execute_result",
          "data": {
            "text/plain": [
              "1146.9560000000001"
            ]
          },
          "metadata": {
            "tags": []
          },
          "execution_count": 96
        }
      ]
    },
    {
      "cell_type": "code",
      "metadata": {
        "id": "a9b8DjCnsdnO",
        "colab_type": "code",
        "outputId": "a93cc348-42f2-426f-8733-f016eb0aa492",
        "colab": {
          "base_uri": "https://localhost:8080/",
          "height": 54
        }
      },
      "source": [
        "# k initial cluster centroids as far apart as possible (using Euclidean distance)\n",
        "c2_df = spark.read.option(\"sep\", \" \").csv(\"c2.txt\", header=False)\n",
        "c2_df.take(1)\n",
        "# c2_df.printSchema()"
      ],
      "execution_count": 0,
      "outputs": [
        {
          "output_type": "execute_result",
          "data": {
            "text/plain": [
              "[Row(_c0='0', _c1='0.64', _c2='0.64', _c3='0', _c4='0.32', _c5='0', _c6='0', _c7='0', _c8='0', _c9='0', _c10='0', _c11='0.64', _c12='0', _c13='0', _c14='0', _c15='0.32', _c16='0', _c17='1.29', _c18='1.93', _c19='0', _c20='0.96', _c21='0', _c22='0', _c23='0', _c24='0', _c25='0', _c26='0', _c27='0', _c28='0', _c29='0', _c30='0', _c31='0', _c32='0', _c33='0', _c34='0', _c35='0', _c36='0', _c37='0', _c38='0', _c39='0', _c40='0', _c41='0', _c42='0', _c43='0', _c44='0', _c45='0', _c46='0', _c47='0', _c48='0', _c49='0', _c50='0', _c51='0.778', _c52='0', _c53='0', _c54='3.756', _c55='61', _c56='278', _c57='1')]"
            ]
          },
          "metadata": {
            "tags": []
          },
          "execution_count": 36
        }
      ]
    },
    {
      "cell_type": "code",
      "metadata": {
        "id": "OIdRybGzyrq2",
        "colab_type": "code",
        "outputId": "a60a1588-7f00-4570-ec68-18f6b5ac55c3",
        "colab": {
          "base_uri": "https://localhost:8080/",
          "height": 34
        }
      },
      "source": [
        "c2_vectors = c2_df.rdd.map(lambda line: [float(x) for x in line]).collect()\n",
        "\n",
        "np.sum(c2_vectors[1])"
      ],
      "execution_count": 0,
      "outputs": [
        {
          "output_type": "execute_result",
          "data": {
            "text/plain": [
              "15868.636"
            ]
          },
          "metadata": {
            "tags": []
          },
          "execution_count": 97
        }
      ]
    },
    {
      "cell_type": "markdown",
      "metadata": {
        "id": "bzNGS0XRwbJi",
        "colab_type": "text"
      },
      "source": [
        "# ALGO"
      ]
    },
    {
      "cell_type": "code",
      "metadata": {
        "id": "yJtYd9tlwixZ",
        "colab_type": "code",
        "colab": {}
      },
      "source": [
        "MAX_ITER = 20\n",
        "k = 10 # num cluster"
      ],
      "execution_count": 0,
      "outputs": []
    },
    {
      "cell_type": "markdown",
      "metadata": {
        "id": "qHLqp2c7rmSQ",
        "colab_type": "text"
      },
      "source": [
        "# Euclidean"
      ]
    },
    {
      "cell_type": "code",
      "metadata": {
        "id": "mrpeya4htbxZ",
        "colab_type": "code",
        "colab": {}
      },
      "source": [
        "import numpy as np\n",
        "from numpy import linalg as LA"
      ],
      "execution_count": 0,
      "outputs": []
    },
    {
      "cell_type": "code",
      "metadata": {
        "id": "-8UmyQI1JkpJ",
        "colab_type": "code",
        "outputId": "d3ba77cc-d9ce-4e7d-ee73-f71f4027e3b6",
        "colab": {
          "base_uri": "https://localhost:8080/",
          "height": 34
        }
      },
      "source": [
        "# K-means Loss\n",
        "def euclidean_loss(point, centroid_point, centroid_idx):\n",
        "  point = np.array(point)\n",
        "  centroid_point = np.array(centroid_point)\n",
        "  loss = LA.norm(point-centroid_point)**2\n",
        "  return float(loss)\n",
        "  # return (centroid_idx, centroid_point)\n",
        "\n",
        "euclidean_loss([1,1], [1,3], 3)"
      ],
      "execution_count": 0,
      "outputs": [
        {
          "output_type": "execute_result",
          "data": {
            "text/plain": [
              "4.0"
            ]
          },
          "metadata": {
            "tags": []
          },
          "execution_count": 196
        }
      ]
    },
    {
      "cell_type": "code",
      "metadata": {
        "id": "VKavEmSy_Wby",
        "colab_type": "code",
        "outputId": "51c2acb2-889e-4a21-83ce-fbe6eb8d1c7e",
        "colab": {
          "base_uri": "https://localhost:8080/",
          "height": 34
        }
      },
      "source": [
        "# get centroid, loss, point\n",
        "def nearest_euclidean_centroid(point, centroids):\n",
        "  distance = float('inf')\n",
        "  nearest_idx = -1\n",
        "  loss = 0\n",
        "  for i, centroid in enumerate(centroids):\n",
        "    delta = np.array(point) - np.array(centroid)\n",
        "    d = LA.norm(delta) \n",
        "    if d < distance:\n",
        "        nearest_idx = i\n",
        "        distance = d\n",
        "        loss = euclidean_loss(point, centroid, nearest_idx) \n",
        "  return (nearest_idx, loss, point)\n",
        "\n",
        "test_centroid = c1_vectors[3] \n",
        "centroid_point = nearest_euclidean_centroid(test_centroid, c1_vectors)\n",
        "print(centroid_point[0], centroid_point[1])\n"
      ],
      "execution_count": 0,
      "outputs": [
        {
          "output_type": "stream",
          "text": [
            "3 0.0\n"
          ],
          "name": "stdout"
        }
      ]
    },
    {
      "cell_type": "code",
      "metadata": {
        "id": "S28bR3pI_saK",
        "colab_type": "code",
        "colab": {}
      },
      "source": [
        "# one k-means iteration\n",
        "def euclidean_kmeans_iteration(dataset_rdd, centroids_vec):\n",
        "\n",
        "  assignment_loss_point_euclidean = dataset_rdd.map(lambda p: nearest_euclidean_centroid(p, centroids_vec))\n",
        "  # assignment_loss_point_euclidean.toDF().show()\n",
        "\n",
        "  total_loss = assignment_loss_point_euclidean.map(lambda r: r[1]).reduce(lambda a, b: a+b)\n",
        "\n",
        "  for cluster_idx in range(k):\n",
        "    cluster_points = assignment_loss_point_euclidean.filter(lambda r: r[0]==cluster_idx).map(lambda a: a[2])\n",
        "    count = cluster_points.count()\n",
        "    sum_vectors = cluster_points.reduce(lambda a, b: np.array(a) + np.array(b))\n",
        "    new_centroid = np.array(sum_vectors)/count\n",
        "    centroids_vec[cluster_idx] = new_centroid\n",
        "\n",
        "  # print(\"total_loss_i=\", int(total_loss))\n",
        "  return centroids_vec, total_loss\n"
      ],
      "execution_count": 0,
      "outputs": []
    },
    {
      "cell_type": "code",
      "metadata": {
        "id": "_IfrUc_jTSd1",
        "colab_type": "code",
        "outputId": "2646d10c-6a54-426e-9cad-8e2b0a68a3d2",
        "colab": {
          "base_uri": "https://localhost:8080/",
          "height": 357
        }
      },
      "source": [
        "# C1: random centroids (Euclidean)\n",
        "c1_centroids = c1_vectors.copy()\n",
        "loss_ticker_euclidean_c1 = []\n",
        "\n",
        "for i in range(MAX_ITER):\n",
        "  c1_centroids, total_loss = euclidean_kmeans_iteration(data_vectors_rdd, c1_centroids)\n",
        "  loss_ticker_euclidean_c1.append(int(total_loss))\n",
        "\n",
        "loss_ticker_euclidean_c1"
      ],
      "execution_count": 0,
      "outputs": [
        {
          "output_type": "execute_result",
          "data": {
            "text/plain": [
              "[623660345,\n",
              " 506898007,\n",
              " 473311514,\n",
              " 461045989,\n",
              " 459826760,\n",
              " 459190739,\n",
              " 458533928,\n",
              " 457920254,\n",
              " 457476520,\n",
              " 457153071,\n",
              " 456838338,\n",
              " 456449587,\n",
              " 456245539,\n",
              " 455984276,\n",
              " 455516358,\n",
              " 454799294,\n",
              " 454188947,\n",
              " 453625232,\n",
              " 452991815,\n",
              " 451625611]"
            ]
          },
          "metadata": {
            "tags": []
          },
          "execution_count": 269
        }
      ]
    },
    {
      "cell_type": "code",
      "metadata": {
        "id": "iv86Tlole1pO",
        "colab_type": "code",
        "outputId": "215343a3-c2b2-4d42-fc00-021fc5e0564f",
        "colab": {
          "base_uri": "https://localhost:8080/",
          "height": 34
        }
      },
      "source": [
        "c1_percent_change_euclidean = (loss_ticker_euclidean_c1[0] - loss_ticker_euclidean_c1[10])/loss_ticker_euclidean_c1[0]\n",
        "c1_percent_change_euclidean"
      ],
      "execution_count": 0,
      "outputs": [
        {
          "output_type": "execute_result",
          "data": {
            "text/plain": [
              "0.26748855901684754"
            ]
          },
          "metadata": {
            "tags": []
          },
          "execution_count": 273
        }
      ]
    },
    {
      "cell_type": "code",
      "metadata": {
        "id": "75o5emsHVRmV",
        "colab_type": "code",
        "outputId": "70175606-70c1-4f07-8eb3-b1f0547bcd2b",
        "colab": {
          "base_uri": "https://localhost:8080/",
          "height": 357
        }
      },
      "source": [
        "# C2: random centroids (Euclidean)\n",
        "c2_centroids = c2_vectors.copy()\n",
        "loss_ticker_euclidean_c2 = []\n",
        "\n",
        "for i in range(MAX_ITER):\n",
        "  c2_centroids, total_loss = euclidean_kmeans_iteration(data_vectors_rdd, c2_centroids)\n",
        "  loss_ticker_euclidean_c2.append(int(total_loss))\n",
        "\n",
        "loss_ticker_euclidean_c2"
      ],
      "execution_count": 0,
      "outputs": [
        {
          "output_type": "execute_result",
          "data": {
            "text/plain": [
              "[438747790,\n",
              " 236989309,\n",
              " 184404813,\n",
              " 161742443,\n",
              " 150722936,\n",
              " 141997657,\n",
              " 128610041,\n",
              " 116047339,\n",
              " 105806496,\n",
              " 99548273,\n",
              " 96390986,\n",
              " 93630280,\n",
              " 92076875,\n",
              " 91289356,\n",
              " 90873036,\n",
              " 90560173,\n",
              " 90201300,\n",
              " 90156495,\n",
              " 90152347,\n",
              " 90152080]"
            ]
          },
          "metadata": {
            "tags": []
          },
          "execution_count": 254
        }
      ]
    },
    {
      "cell_type": "code",
      "metadata": {
        "id": "UinOQSJMfS3Q",
        "colab_type": "code",
        "outputId": "68e88dc9-be82-42a4-edfb-5e88b364c628",
        "colab": {
          "base_uri": "https://localhost:8080/",
          "height": 34
        }
      },
      "source": [
        "c2_percent_change_euclidean = (loss_ticker_euclidean_c2[0] - loss_ticker_euclidean_c2[10])/loss_ticker_euclidean_c2[0]\n",
        "c2_percent_change_euclidean"
      ],
      "execution_count": 0,
      "outputs": [
        {
          "output_type": "execute_result",
          "data": {
            "text/plain": [
              "0.7803043383990607"
            ]
          },
          "metadata": {
            "tags": []
          },
          "execution_count": 276
        }
      ]
    },
    {
      "cell_type": "code",
      "metadata": {
        "id": "UKJhnLocbULd",
        "colab_type": "code",
        "outputId": "fcfd87c9-ee7c-43a0-b38b-eb550b9fba42",
        "colab": {
          "base_uri": "https://localhost:8080/",
          "height": 276
        }
      },
      "source": [
        "import matplotlib.pyplot as plt\n",
        "import datetime\n",
        "import numpy as np\n",
        "\n",
        "\n",
        "x = [i for i in range(MAX_ITER)]\n",
        "y1 = loss_ticker_euclidean_c1\n",
        "y2 = loss_ticker_euclidean_c2\n",
        "\n",
        "plt.plot(x,y1)\n",
        "plt.plot(x,y2)\n",
        "plt.show()"
      ],
      "execution_count": 0,
      "outputs": [
        {
          "output_type": "display_data",
          "data": {
            "image/png": "[encoded data removed]",
            "text/plain": [
              "<Figure size 432x288 with 1 Axes>"
            ]
          },
          "metadata": {
            "tags": []
          }
        }
      ]
    },
    {
      "cell_type": "code",
      "metadata": {
        "id": "nN9gDH0reyHS",
        "colab_type": "code",
        "colab": {}
      },
      "source": [
        ""
      ],
      "execution_count": 0,
      "outputs": []
    },
    {
      "cell_type": "markdown",
      "metadata": {
        "id": "5wvbM3O0rtT7",
        "colab_type": "text"
      },
      "source": [
        "# Manhattan "
      ]
    },
    {
      "cell_type": "code",
      "metadata": {
        "id": "x1eD4uycuuN4",
        "colab_type": "code",
        "colab": {}
      },
      "source": [
        "# Distance \n",
        "import numpy as np\n",
        "from numpy import linalg as LA"
      ],
      "execution_count": 0,
      "outputs": []
    },
    {
      "cell_type": "code",
      "metadata": {
        "id": "iqs1FWV7uwqI",
        "colab_type": "code",
        "outputId": "db39dace-4bae-4c46-8628-f062c1f84747",
        "colab": {
          "base_uri": "https://localhost:8080/",
          "height": 34
        }
      },
      "source": [
        "# K-means Loss\n",
        "def manhattan_loss(point, centroid_point, centroid_idx):\n",
        "  point = np.array(point)\n",
        "  centroid_point = np.array(centroid_point)\n",
        "  loss = LA.norm(point-centroid_point, ord=1)\n",
        "  return float(loss)\n",
        "\n",
        "manhattan_loss([1,1], [1,3], 7)"
      ],
      "execution_count": 0,
      "outputs": [
        {
          "output_type": "execute_result",
          "data": {
            "text/plain": [
              "2.0"
            ]
          },
          "metadata": {
            "tags": []
          },
          "execution_count": 222
        }
      ]
    },
    {
      "cell_type": "code",
      "metadata": {
        "id": "iHilJim3_igm",
        "colab_type": "code",
        "outputId": "7ee8693d-5750-4f90-a67c-e4ac60d24d02",
        "colab": {
          "base_uri": "https://localhost:8080/",
          "height": 34
        }
      },
      "source": [
        "# get centroid, loss, point\n",
        "def nearest_manhattan_centroid(point, centroids):\n",
        "  distance = float('inf')\n",
        "  nearest_idx = -1\n",
        "  loss = 0\n",
        "  for i, centroid in enumerate(centroids):\n",
        "    delta = np.array(point) - np.array(centroid)\n",
        "    d = LA.norm(delta, ord=1) \n",
        "    if d < distance:\n",
        "        nearest_idx = i\n",
        "        distance = d\n",
        "        loss = manhattan_loss(point, centroid, nearest_idx) \n",
        "  return (nearest_idx, loss, point)\n",
        "\n",
        "test_centroid = c1_vectors[3] \n",
        "centroid_point = nearest_euclidean_centroid(test_centroid, c1_vectors)\n",
        "print(centroid_point[0], centroid_point[1])\n"
      ],
      "execution_count": 0,
      "outputs": [
        {
          "output_type": "stream",
          "text": [
            "3 0.0\n"
          ],
          "name": "stdout"
        }
      ]
    },
    {
      "cell_type": "code",
      "metadata": {
        "id": "JnaRML-f8I34",
        "colab_type": "code",
        "colab": {}
      },
      "source": [
        "# one k-means iteration\n",
        "def manhattan_kmeans_iteration(dataset_rdd, centroids_vec):\n",
        "\n",
        "  assignment_loss_point_manhattan = dataset_rdd.map(lambda p: nearest_manhattan_centroid(p, centroids_vec))\n",
        "  # assignment_loss_point_manhattan.toDF().show()\n",
        "\n",
        "  total_loss = assignment_loss_point_manhattan.map(lambda r: r[1]).reduce(lambda a, b: a+b)\n",
        "\n",
        "  for cluster_idx in range(k):\n",
        "    cluster_points = assignment_loss_point_manhattan.filter(lambda r: r[0]==cluster_idx).map(lambda a: a[2])\n",
        "    count = cluster_points.count()\n",
        "    sum_vectors = cluster_points.reduce(lambda a, b: np.array(a) + np.array(b))\n",
        "    new_centroid = np.array(sum_vectors)/count\n",
        "    centroids_vec[cluster_idx] = new_centroid\n",
        "\n",
        "  # print(\"total_loss_i=\", int(total_loss))\n",
        "  return centroids_vec, total_loss\n"
      ],
      "execution_count": 0,
      "outputs": []
    },
    {
      "cell_type": "code",
      "metadata": {
        "id": "ZqnA4_e3MU6q",
        "colab_type": "code",
        "outputId": "33731b0b-f906-4954-e504-2174651377df",
        "colab": {
          "base_uri": "https://localhost:8080/",
          "height": 357
        }
      },
      "source": [
        "# C1: random centroids (Manhattan)\n",
        "c1_centroids = c1_vectors.copy()\n",
        "loss_ticker_manhattan_c1 = []\n",
        "\n",
        "for i in range(MAX_ITER):\n",
        "  c1_centroids, total_loss = manhattan_kmeans_iteration(data_vectors_rdd, c1_centroids)\n",
        "  loss_ticker_manhattan_c1.append(int(total_loss))\n",
        "\n",
        "loss_ticker_manhattan_c1"
      ],
      "execution_count": 0,
      "outputs": [
        {
          "output_type": "execute_result",
          "data": {
            "text/plain": [
              "[550117,\n",
              " 469075,\n",
              " 478375,\n",
              " 488913,\n",
              " 484063,\n",
              " 476102,\n",
              " 479845,\n",
              " 460064,\n",
              " 450535,\n",
              " 452454,\n",
              " 452317,\n",
              " 452028,\n",
              " 452979,\n",
              " 450265,\n",
              " 449852,\n",
              " 446946,\n",
              " 446881,\n",
              " 443359,\n",
              " 442852,\n",
              " 442197]"
            ]
          },
          "metadata": {
            "tags": []
          },
          "execution_count": 257
        }
      ]
    },
    {
      "cell_type": "code",
      "metadata": {
        "id": "DdDhoADrfDJc",
        "colab_type": "code",
        "outputId": "94646e0e-b678-4f28-bd6a-53e24d4ebd49",
        "colab": {
          "base_uri": "https://localhost:8080/",
          "height": 34
        }
      },
      "source": [
        "c1_percent_change_manhattan = (loss_ticker_manhattan_c1[0] - loss_ticker_manhattan_c1[10])/loss_ticker_manhattan_c1[0]\n",
        "c1_percent_change_manhattan"
      ],
      "execution_count": 0,
      "outputs": [
        {
          "output_type": "execute_result",
          "data": {
            "text/plain": [
              "0.177780363086398"
            ]
          },
          "metadata": {
            "tags": []
          },
          "execution_count": 274
        }
      ]
    },
    {
      "cell_type": "code",
      "metadata": {
        "id": "EHhjaxaGYwdi",
        "colab_type": "code",
        "outputId": "2c0dcd39-eff1-4f2c-8948-a97dd9a6071b",
        "colab": {
          "base_uri": "https://localhost:8080/",
          "height": 357
        }
      },
      "source": [
        "# C2: random centroids (Manhattan)\n",
        "c2_centroids = c2_vectors.copy()\n",
        "loss_ticker_manhattan_c2 = []\n",
        "\n",
        "for i in range(MAX_ITER):\n",
        "  c2_centroids, total_loss = manhattan_kmeans_iteration(data_vectors_rdd, c2_centroids)\n",
        "  loss_ticker_manhattan_c2.append(int(total_loss))\n",
        "\n",
        "loss_ticker_manhattan_c2"
      ],
      "execution_count": 0,
      "outputs": [
        {
          "output_type": "execute_result",
          "data": {
            "text/plain": [
              "[1433739,\n",
              " 1073953,\n",
              " 959053,\n",
              " 887920,\n",
              " 855588,\n",
              " 825182,\n",
              " 800540,\n",
              " 767878,\n",
              " 740590,\n",
              " 724516,\n",
              " 717051,\n",
              " 708415,\n",
              " 702191,\n",
              " 697171,\n",
              " 692481,\n",
              " 689966,\n",
              " 686411,\n",
              " 683815,\n",
              " 682761,\n",
              " 682062]"
            ]
          },
          "metadata": {
            "tags": []
          },
          "execution_count": 258
        }
      ]
    },
    {
      "cell_type": "code",
      "metadata": {
        "id": "Yh2kqRSofL0A",
        "colab_type": "code",
        "outputId": "89e2396a-4594-40f9-fb06-95ad2a2f5344",
        "colab": {
          "base_uri": "https://localhost:8080/",
          "height": 34
        }
      },
      "source": [
        "c2_percent_change_manhattan = (loss_ticker_manhattan_c2[0] - loss_ticker_manhattan_c2[10])/loss_ticker_manhattan_c2[0]\n",
        "c2_percent_change_manhattan"
      ],
      "execution_count": 0,
      "outputs": [
        {
          "output_type": "execute_result",
          "data": {
            "text/plain": [
              "0.49987340792152546"
            ]
          },
          "metadata": {
            "tags": []
          },
          "execution_count": 275
        }
      ]
    },
    {
      "cell_type": "code",
      "metadata": {
        "id": "waWy2xhOY45z",
        "colab_type": "code",
        "outputId": "ba83e4ae-c4ba-4235-eefb-2413c88d8cfd",
        "colab": {
          "base_uri": "https://localhost:8080/",
          "height": 265
        }
      },
      "source": [
        "import matplotlib.pyplot as plt\n",
        "import datetime\n",
        "import numpy as np\n",
        "\n",
        "\n",
        "x = [i for i in range(MAX_ITER)]\n",
        "y1 = loss_ticker_manhattan_c1\n",
        "y2 = loss_ticker_manhattan_c2\n",
        "\n",
        "plt.plot(x,y1)\n",
        "plt.plot(x,y2)\n",
        "plt.show()"
      ],
      "execution_count": 0,
      "outputs": [
        {
          "output_type": "display_data",
          "data": {
            "image/png": "[encoded data removed]",
            "text/plain": [
              "<Figure size 432x288 with 1 Axes>"
            ]
          },
          "metadata": {
            "tags": []
          }
        }
      ]
    },
    {
      "cell_type": "code",
      "metadata": {
        "id": "qhHGgbQpbRC8",
        "colab_type": "code",
        "colab": {}
      },
      "source": [
        ""
      ],
      "execution_count": 0,
      "outputs": []
    }
  ]
}